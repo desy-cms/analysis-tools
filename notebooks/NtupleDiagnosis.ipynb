{
 "cells": [
  {
   "cell_type": "markdown",
   "metadata": {
    "slideshow": {
     "slide_type": "skip"
    }
   },
   "source": [
    "## Ntuple Diagnosis\n",
    "\n",
    "Analyse ntuples related to the group's analysis and print/plot relevant info to spot possible issues.\n",
    "\n",
    "N.B.: in a notebook it may be slow to run over all data, anyhow a subsample may be enough for most diagnosis"
   ]
  },
  {
   "cell_type": "markdown",
   "metadata": {
    "slideshow": {
     "slide_type": "skip"
    }
   },
   "source": [
    "#### Set path(s) for python modules"
   ]
  },
  {
   "cell_type": "code",
   "execution_count": null,
   "metadata": {
    "slideshow": {
     "slide_type": "skip"
    }
   },
   "outputs": [],
   "source": [
    "import utils\n",
    "utils.modules_path()"
   ]
  },
  {
   "cell_type": "markdown",
   "metadata": {
    "slideshow": {
     "slide_type": "skip"
    }
   },
   "source": [
    "#### Import modules"
   ]
  },
  {
   "cell_type": "code",
   "execution_count": null,
   "metadata": {
    "slideshow": {
     "slide_type": "skip"
    }
   },
   "outputs": [],
   "source": [
    "import ROOT\n",
    "from ROOT import TH1F, TCanvas"
   ]
  },
  {
   "cell_type": "code",
   "execution_count": null,
   "metadata": {
    "slideshow": {
     "slide_type": "skip"
    }
   },
   "outputs": [],
   "source": [
    "from AnalysisData import AnalysisData\n",
    "from Triggers import TriggerResults\n",
    "from Jets import Jets"
   ]
  },
  {
   "cell_type": "code",
   "execution_count": null,
   "metadata": {},
   "outputs": [],
   "source": [
    "from AnalysisData import AnalysisData\n",
    "from Triggers import TriggerResults\n",
    "from Jets import Jets\n",
    "\n",
    "class HPR:\n",
    "    \n",
    "    def __init__(self, data = None):\n",
    "        self.__data = data\n",
    "        \n",
    "    def data(self):\n",
    "        return self.__data\n",
    "        \n",
    "    def plot(name1,name2,nbins,lvalue,hvalue):\n",
    "        name1= TH1F(name1, name2, nbins, lvalue, hvalue)\n",
    "        for i in range(1_000):\n",
    "            self.__data.entry(i)\n",
    "            triggerResults = data.triggerResults\n",
    "            jets = data.jets.jets\n",
    "            jet1 = jets[0]\n",
    "            h_jet1_pt.Fill(jet1.pt)"
   ]
  },
  {
   "cell_type": "markdown",
   "metadata": {
    "slideshow": {
     "slide_type": "skip"
    }
   },
   "source": [
    "#### Instantiate the data class"
   ]
  },
  {
   "cell_type": "code",
   "execution_count": null,
   "metadata": {},
   "outputs": [],
   "source": [
    "data = AnalysisData(\"BSMHbb-M500_Autumn2018.txt\")\n",
    "data2 = AnalysisData(\"BSMHbb-M500_Fall17.txt\")\n",
    "print(data)"
   ]
  },
  {
   "cell_type": "code",
   "execution_count": null,
   "metadata": {
    "slideshow": {
     "slide_type": "skip"
    }
   },
   "outputs": [],
   "source": [
    "plotter = HPR()\n",
    "print(\"Plotterdata = \", plotter.data)"
   ]
  },
  {
   "cell_type": "markdown",
   "metadata": {
    "slideshow": {
     "slide_type": "skip"
    }
   },
   "source": [
    "#### Add which collections of which type to be readout from the data files"
   ]
  },
  {
   "cell_type": "code",
   "execution_count": null,
   "metadata": {
    "slideshow": {
     "slide_type": "skip"
    }
   },
   "outputs": [],
   "source": [
    "data.addTriggerResults(\"TriggerResults\")\n",
    "data.addJets(\"updatedPatJets\")\n",
    "\n",
    "data2.addTriggerResults(\"TriggerResults\")\n",
    "data2.addJets(\"updatedPatJets\")"
   ]
  },
  {
   "cell_type": "markdown",
   "metadata": {
    "slideshow": {
     "slide_type": "skip"
    }
   },
   "source": [
    "#### Create plots"
   ]
  },
  {
   "cell_type": "code",
   "execution_count": null,
   "metadata": {},
   "outputs": [],
   "source": [
    "HPR.plot(\"h_jet1_pt\",\"h_jet1_pt2\",100, 0, 1000)"
   ]
  },
  {
   "cell_type": "code",
   "execution_count": null,
   "metadata": {
    "slideshow": {
     "slide_type": "skip"
    }
   },
   "outputs": [],
   "source": [
    "# TH1F(\"name\",\"title\",nbins,lowest_value,highest_value)\n",
    "h_jet1_pt = TH1F(\"h_jet1_pt\",\"\",100,0,1000)\n",
    "h_jet2_pt = TH1F(\"h_jet2_pt\",\"\",100,0,1000)\n",
    "h_jet3_pt = TH1F(\"h_jet3_pt\",\"\",100,0,1000)\n",
    "h_jet1_eta = TH1F(\"h_jet1_eta\",\"\",60,-3,3)\n",
    "h_jet1_phi = TH1F(\"h_jet1_phi\",\"\",64,-3.2,3.2)\n",
    "\n",
    "h_jet4_pt = TH1F(\"h_jet4_pt\",\"\",100,0,1000)\n",
    "h_jet5_pt = TH1F(\"h_jet5_pt\",\"\",100,0,1000)\n",
    "h_jet6_pt = TH1F(\"h_jet6_pt\",\"\",100,0,1000)"
   ]
  },
  {
   "cell_type": "markdown",
   "metadata": {
    "slideshow": {
     "slide_type": "skip"
    }
   },
   "source": [
    "#### Canvases"
   ]
  },
  {
   "cell_type": "code",
   "execution_count": null,
   "metadata": {
    "slideshow": {
     "slide_type": "skip"
    }
   },
   "outputs": [],
   "source": [
    "c1 = TCanvas(\"c1\",\"\",1500,600)\n",
    "c1.Divide(3)"
   ]
  },
  {
   "cell_type": "markdown",
   "metadata": {
    "slideshow": {
     "slide_type": "skip"
    }
   },
   "source": [
    "#### Analyse the data and fill plots"
   ]
  },
  {
   "cell_type": "code",
   "execution_count": null,
   "metadata": {
    "slideshow": {
     "slide_type": "skip"
    }
   },
   "outputs": [],
   "source": [
    "h_jet1_pt.Reset()\n",
    "h_jet2_pt.Reset()\n",
    "h_jet3_pt.Reset()\n",
    "for i in range(1_000):\n",
    "    data.entry(i)\n",
    "    triggerResults = data.triggerResults\n",
    "    jets = data.jets.jets\n",
    "    jet1 = jets[0]\n",
    "    jet2 = jets[1]\n",
    "    jet3 = jets[2]\n",
    "    h_jet1_pt.Fill(jet1.pt)\n",
    "    h_jet2_pt.Fill(jet2.pt)\n",
    "    h_jet3_pt.Fill(jet3.pt)\n",
    "    \n",
    "    h_jet1_eta.Fill(jet1.eta)\n",
    "    h_jet1_phi.Fill(jet1.phi)\n"
   ]
  },
  {
   "cell_type": "code",
   "execution_count": null,
   "metadata": {
    "slideshow": {
     "slide_type": "skip"
    }
   },
   "outputs": [],
   "source": [
    "h_jet4_pt.Reset()\n",
    "h_jet5_pt.Reset()\n",
    "h_jet6_pt.Reset()\n",
    "for i in range(1_000):\n",
    "    data2.entry(i)\n",
    "    triggerResults2 = data2.triggerResults\n",
    "    jets2 = data2.jets.jets\n",
    "    jet4 = jets2[0]\n",
    "    jet5 = jets2[1]\n",
    "   #jet6 = jets2[2]\n",
    "    h_jet4_pt.Fill(jet4.pt)\n",
    "    h_jet5_pt.Fill(jet5.pt)\n",
    "    #h_jet6_pt.Fill(jet6.pt)"
   ]
  },
  {
   "cell_type": "markdown",
   "metadata": {
    "slideshow": {
     "slide_type": "slide"
    }
   },
   "source": [
    "#### Show the amazing plots!!!"
   ]
  },
  {
   "cell_type": "code",
   "execution_count": null,
   "metadata": {},
   "outputs": [],
   "source": [
    "c1.Draw()\n",
    "c1.cd(1)\n",
    "h_jet4_pt.Draw(\"e\")\n",
    "c1.cd(2)\n",
    "h_jet5_pt.Draw(\"e\")\n",
    "c1.cd(3)\n",
    "h_jet1_pt.Draw(\"e\")\n"
   ]
  },
  {
   "cell_type": "code",
   "execution_count": null,
   "metadata": {},
   "outputs": [],
   "source": []
  },
  {
   "cell_type": "code",
   "execution_count": null,
   "metadata": {},
   "outputs": [],
   "source": []
  }
 ],
 "metadata": {
  "celltoolbar": "Slideshow",
  "kernelspec": {
   "display_name": "Python 3",
   "language": "python",
   "name": "python3"
  },
  "language_info": {
   "codemirror_mode": {
    "name": "ipython",
    "version": 3
   },
   "file_extension": ".py",
   "mimetype": "text/x-python",
   "name": "python",
   "nbconvert_exporter": "python",
   "pygments_lexer": "ipython3",
   "version": "3.6.8"
  },
  "latex_envs": {
   "LaTeX_envs_menu_present": true,
   "autoclose": false,
   "autocomplete": true,
   "bibliofile": "biblio.bib",
   "cite_by": "apalike",
   "current_citInitial": 1,
   "eqLabelWithNumbers": true,
   "eqNumInitial": 1,
   "hotkeys": {
    "equation": "Ctrl-E",
    "itemize": "Ctrl-I"
   },
   "labels_anchors": false,
   "latex_user_defs": false,
   "report_style_numbering": false,
   "user_envs_cfg": false
  },
  "toc": {
   "base_numbering": 1,
   "nav_menu": {},
   "number_sections": true,
   "sideBar": true,
   "skip_h1_title": false,
   "title_cell": "Table of Contents",
   "title_sidebar": "Contents",
   "toc_cell": false,
   "toc_position": {},
   "toc_section_display": true,
   "toc_window_display": false
  }
 },
 "nbformat": 4,
 "nbformat_minor": 4
}
